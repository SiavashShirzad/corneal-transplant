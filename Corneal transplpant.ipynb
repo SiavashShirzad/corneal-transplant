{
 "cells": [
  {
   "cell_type": "code",
   "execution_count": 1,
   "metadata": {},
   "outputs": [],
   "source": [
    "import pandas as pd\n",
    "import tensorflow as tf\n",
    "import numpy as np\n",
    "import matplotlib.pyplot as plt\n",
    "from tensorflow import keras\n",
    "from keras import layers\n",
    "from sklearn import svm\n",
    "from sklearn.model_selection import train_test_split , GridSearchCV\n",
    "from sklearn.preprocessing import StandardScaler\n",
    "from sklearn.metrics import precision_score,recall_score , classification_report,f1_score\n",
    "import scipy.stats\n",
    "from sklearn.metrics import roc_curve\n",
    "from sklearn.metrics import roc_auc_score\n",
    "from sklearn.linear_model import Lasso\n",
    "from sklearn.pipeline import Pipeline\n",
    "from sklearn.feature_selection import SelectFromModel\n",
    "from sklearn.datasets import make_classification\n",
    "from sklearn.linear_model import LogisticRegression\n",
    "from sklearn.svm import SVC\n",
    "from matplotlib import pyplot\n",
    "import os\n",
    "from sklearn import metrics\n",
    "from sklearn.experimental import enable_iterative_imputer\n",
    "from sklearn.impute import IterativeImputer\n",
    "from sklearn.ensemble import RandomForestClassifier\n",
    "from sklearn.ensemble import GradientBoostingClassifier\n",
    "from sklearn.neighbors import KNeighborsClassifier\n",
    "from sklearn.naive_bayes import GaussianNB\n",
    "from sklearn.experimental import enable_iterative_imputer\n",
    "from sklearn.impute import IterativeImputer\n",
    "from keras.wrappers.scikit_learn import KerasClassifier, KerasRegressor\n",
    "import eli5\n",
    "from eli5.sklearn import PermutationImportance\n",
    "import shap\n",
    "\n"
   ]
  },
  {
   "cell_type": "code",
   "execution_count": null,
   "metadata": {},
   "outputs": [],
   "source": []
  },
  {
   "cell_type": "code",
   "execution_count": 2,
   "metadata": {},
   "outputs": [],
   "source": [
    "def results(CM):\n",
    "    TN = CM[0][0]\n",
    "    FN = CM[1][0]\n",
    "    TP = CM[1][1]\n",
    "    FP = CM[0][1]\n",
    "\n",
    "    # Sensitivity, hit rate, recall, or true positive rate\n",
    "    TPR = TP/(TP+FN)\n",
    "    # Specificity or true negative rate\n",
    "    TNR = TN/(TN+FP) \n",
    "    # Precision or positive predictive value\n",
    "    PPV = TP/(TP+FP)\n",
    "    # Negative predictive value\n",
    "    NPV = TN/(TN+FN)\n",
    "    # Fall out or false positive rate\n",
    "    FPR = FP/(FP+TN)\n",
    "    # False negative rate\n",
    "    FNR = FN/(TP+FN)\n",
    "    # False discovery rate\n",
    "    FDR = FP/(TP+FP)\n",
    "    # Overall accuracy\n",
    "    ACC = (TP+TN)/(TP+FP+FN+TN)\n",
    "    return('sensetivity: ' ,TPR , ' specifity: ' , TNR ,' PPV: ' ,PPV,' NPV: ', NPV)"
   ]
  },
  {
   "cell_type": "code",
   "execution_count": 3,
   "metadata": {},
   "outputs": [
    {
     "name": "stdout",
     "output_type": "stream",
     "text": [
      "Index(['DonorTrephineSize', 'Eye', 'KeratoplastyInFellowEyeAtGraftRejection',\n",
      "       'Age', 'Sex', 'VKC', 'type.of.transplant', 'SutureComplication',\n",
      "       'StitchAbscess', 'LooseSuture', 'BrokenSuture', 'SutureVascularization',\n",
      "       'SutureIn', 'OnSteroid', 'RecodedSecondaryIntervention',\n",
      "       'GraftVascularization', 'VKCReactivation', 'GraftRejection',\n",
      "       'SutureComplicationAssociatedWithRejection',\n",
      "       'GraftVascularizationAssociateWithRejection',\n",
      "       'SecondaryInterventionAssociatedWithRejection',\n",
      "       'VKCReactivationAssociateWithGraftRejection',\n",
      "       'GraftRejectionMoreThanOnce', 'FU', 'IntervalToFirstStutreRemoval',\n",
      "       'IntervalToCompleteSutureRemoval', 'IntervalToStopSteroid',\n",
      "       'TimeToFirstSutureRemoval', 'TimeToSecondRejection',\n",
      "       'TimeToThirdRejection', 'TimeToFourthRejection', 'TimeToFifthRejection',\n",
      "       'TimeToSixthRejection'],\n",
      "      dtype='object')\n",
      "   DonorTrephineSize  Eye  KeratoplastyInFellowEyeAtGraftRejection  Age  Sex  \\\n",
      "0               8.25    2                                        1   32    2   \n",
      "1               8.50    1                                        1   38    1   \n",
      "2               8.25    1                                        2   13    1   \n",
      "3               8.25    1                                        2   27    2   \n",
      "4               8.25    1                                        2   20    1   \n",
      "\n",
      "   VKC  type.of.transplant  SutureComplication  StitchAbscess  LooseSuture  \\\n",
      "0    1                   2                   2              2            2   \n",
      "1    1                   1                   1              1            1   \n",
      "2    2                   1                   2              2            1   \n",
      "3    1                   2                   1              1            1   \n",
      "4    2                   1                   2              1            2   \n",
      "\n",
      "   ...    FU  IntervalToFirstStutreRemoval  IntervalToCompleteSutureRemoval  \\\n",
      "0  ...  9073                         505.0                            666.0   \n",
      "1  ...   168                          79.0                           1063.0   \n",
      "2  ...  4377                         143.0                            650.0   \n",
      "3  ...  4781                         577.0                           1056.0   \n",
      "4  ...  7063                         180.0                            829.0   \n",
      "\n",
      "   IntervalToStopSteroid  TimeToFirstSutureRemoval  TimeToSecondRejection  \\\n",
      "0                   90.0                       NaN                    NaN   \n",
      "1                  168.0                       NaN                    NaN   \n",
      "2                  143.0                       NaN                    NaN   \n",
      "3                  165.0                       NaN                    NaN   \n",
      "4                   61.0                       NaN                    NaN   \n",
      "\n",
      "   TimeToThirdRejection  TimeToFourthRejection  TimeToFifthRejection  \\\n",
      "0                   NaN                    NaN                   NaN   \n",
      "1                   NaN                    NaN                   NaN   \n",
      "2                   NaN                    NaN                   NaN   \n",
      "3                   NaN                    NaN                   NaN   \n",
      "4                   NaN                    NaN                   NaN   \n",
      "\n",
      "   TimeToSixthRejection  \n",
      "0                   NaN  \n",
      "1                   NaN  \n",
      "2                   NaN  \n",
      "3                   NaN  \n",
      "4                   NaN  \n",
      "\n",
      "[5 rows x 33 columns]\n"
     ]
    }
   ],
   "source": [
    "data = pd.read_excel('Downloads/FinalCorneal.xlsx')\n",
    "print(data.columns)\n",
    "print(data.head())\n",
    "data = data[data.columns[:-5]]"
   ]
  },
  {
   "cell_type": "code",
   "execution_count": 5,
   "metadata": {},
   "outputs": [
    {
     "data": {
      "text/plain": [
       "Index(['DonorTrephineSize', 'Eye', 'KeratoplastyInFellowEyeAtGraftRejection',\n",
       "       'Age', 'Sex', 'VKC', 'type.of.transplant', 'SutureComplication',\n",
       "       'StitchAbscess', 'LooseSuture', 'BrokenSuture', 'SutureVascularization',\n",
       "       'SutureIn', 'OnSteroid', 'RecodedSecondaryIntervention',\n",
       "       'GraftVascularization', 'VKCReactivation', 'GraftRejection',\n",
       "       'SutureComplicationAssociatedWithRejection',\n",
       "       'GraftVascularizationAssociateWithRejection',\n",
       "       'SecondaryInterventionAssociatedWithRejection',\n",
       "       'VKCReactivationAssociateWithGraftRejection',\n",
       "       'GraftRejectionMoreThanOnce', 'FU', 'IntervalToFirstStutreRemoval',\n",
       "       'IntervalToCompleteSutureRemoval', 'IntervalToStopSteroid',\n",
       "       'TimeToFirstSutureRemoval'],\n",
       "      dtype='object')"
      ]
     },
     "execution_count": 5,
     "metadata": {},
     "output_type": "execute_result"
    }
   ],
   "source": [
    "data.columns"
   ]
  },
  {
   "cell_type": "code",
   "execution_count": 13,
   "metadata": {},
   "outputs": [
    {
     "data": {
      "text/plain": [
       "28.77900552486188"
      ]
     },
     "execution_count": 13,
     "metadata": {},
     "output_type": "execute_result"
    }
   ],
   "source": [
    "data[data['GraftRejection']==1]['Age'].mean()"
   ]
  },
  {
   "cell_type": "code",
   "execution_count": 167,
   "metadata": {},
   "outputs": [
    {
     "data": {
      "text/plain": [
       "905"
      ]
     },
     "execution_count": 167,
     "metadata": {},
     "output_type": "execute_result"
    }
   ],
   "source": [
    "data['TimeToFirstSutureRemoval'].isna().sum()"
   ]
  },
  {
   "cell_type": "code",
   "execution_count": 168,
   "metadata": {},
   "outputs": [],
   "source": [
    "useless_columns = ['TimeToFirstSutureRemoval',\"GraftRejection\",'Eye','SutureComplication','IntervalToCompleteSutureRemoval','VKCReactivation','SutureIn','GraftRejectionMoreThanOnce','KeratoplastyInFellowEyeAtGraftRejection','SutureComplicationAssociatedWithRejection','GraftVascularizationAssociateWithRejection','SecondaryInterventionAssociatedWithRejection','VKCReactivationAssociateWithGraftRejection']\n",
    "sample_useless_columns = ['Eye','SutureComplication','IntervalToCompleteSutureRemoval','VKCReactivation','SutureIn','GraftRejectionMoreThanOnce','KeratoplastyInFellowEyeAtGraftRejection','SutureComplicationAssociatedWithRejection','GraftVascularizationAssociateWithRejection','SecondaryInterventionAssociatedWithRejection','VKCReactivationAssociateWithGraftRejection']"
   ]
  },
  {
   "cell_type": "code",
   "execution_count": 169,
   "metadata": {},
   "outputs": [],
   "source": [
    "X = data.drop(useless_columns, axis = 1)\n",
    "y = data[\"GraftRejection\"]"
   ]
  },
  {
   "cell_type": "code",
   "execution_count": 170,
   "metadata": {},
   "outputs": [],
   "source": [
    "catagorical_data = [\"Sex\",'VKC',\"type.of.transplant\",\"StitchAbscess\",\"LooseSuture\",\"BrokenSuture\",\"SutureVascularization\",\"OnSteroid\",'RecodedSecondaryIntervention','GraftVascularization']\n",
    "X[catagorical_data] =X[catagorical_data]-1 "
   ]
  },
  {
   "cell_type": "code",
   "execution_count": 171,
   "metadata": {},
   "outputs": [],
   "source": [
    "features = data.drop(useless_columns, axis = 1).columns"
   ]
  },
  {
   "cell_type": "code",
   "execution_count": 172,
   "metadata": {},
   "outputs": [],
   "source": [
    "imp = IterativeImputer(max_iter=10, random_state=0)\n",
    "X = imp.fit_transform(X)"
   ]
  },
  {
   "cell_type": "code",
   "execution_count": 173,
   "metadata": {},
   "outputs": [],
   "source": [
    "standard = StandardScaler()\n",
    "X = standard.fit_transform(X)"
   ]
  },
  {
   "cell_type": "code",
   "execution_count": 186,
   "metadata": {},
   "outputs": [],
   "source": [
    "x_train , x_test , y_train, y_test = train_test_split(X,y , test_size = 0.2, random_state = 10)"
   ]
  },
  {
   "cell_type": "code",
   "execution_count": 187,
   "metadata": {},
   "outputs": [
    {
     "data": {
      "text/plain": [
       "(1237, 15)"
      ]
     },
     "execution_count": 187,
     "metadata": {},
     "output_type": "execute_result"
    }
   ],
   "source": [
    "X.shape"
   ]
  },
  {
   "cell_type": "code",
   "execution_count": 188,
   "metadata": {},
   "outputs": [],
   "source": [
    "y_train = y_train - 1\n",
    "y_test = y_test - 1"
   ]
  },
  {
   "cell_type": "code",
   "execution_count": 189,
   "metadata": {},
   "outputs": [],
   "source": [
    "model = tf.keras.Sequential([\n",
    "    tf.keras.layers.Dense(15,activation = 'relu',input_dim = 15),\n",
    "    tf.keras.layers.Dropout(0.5),\n",
    "    tf.keras.layers.Dense(32,activation = 'relu'),\n",
    "    tf.keras.layers.Dropout(0.5),\n",
    "    tf.keras.layers.Dense(16,activation = 'relu'),\n",
    "    tf.keras.layers.Dense(1,activation = 'sigmoid')\n",
    "])\n",
    "sgd = tf.keras.optimizers.SGD(learning_rate = 0.05 , decay =1e-6 , momentum = 0.8 , nesterov = True)\n",
    "model.compile(loss = 'binary_crossentropy' , optimizer = sgd,metrics = tf.keras.metrics.AUC())\n"
   ]
  },
  {
   "cell_type": "code",
   "execution_count": 205,
   "metadata": {},
   "outputs": [
    {
     "name": "stdout",
     "output_type": "stream",
     "text": [
      "31/31 [==============================] - 0s 10ms/step - loss: 0.5153 - auc_9: 0.7259 - val_loss: 0.4294 - val_auc_9: 0.8143\n"
     ]
    }
   ],
   "source": [
    "history = model.fit(x_train,y_train,validation_data = (x_test,y_test),epochs=1)"
   ]
  },
  {
   "cell_type": "code",
   "execution_count": 206,
   "metadata": {},
   "outputs": [
    {
     "name": "stdout",
     "output_type": "stream",
     "text": [
      "('sensetivity: ', 0.27419354838709675, ' specifity: ', 0.989247311827957, ' PPV: ', 0.8947368421052632, ' NPV: ', 0.8034934497816594)\n",
      "              precision    recall  f1-score   support\n",
      "\n",
      "           0       0.80      0.99      0.89       186\n",
      "           1       0.89      0.27      0.42        62\n",
      "\n",
      "    accuracy                           0.81       248\n",
      "   macro avg       0.85      0.63      0.65       248\n",
      "weighted avg       0.83      0.81      0.77       248\n",
      "\n"
     ]
    }
   ],
   "source": [
    "pred_prob = model.predict(x_test)\n",
    "pred = model.predict(x_test)\n",
    "pred = (pred>=0.5)\n",
    "print(results(metrics.confusion_matrix(y_test,pred)))\n",
    "print(classification_report(y_test,pred))"
   ]
  },
  {
   "cell_type": "code",
   "execution_count": null,
   "metadata": {},
   "outputs": [],
   "source": []
  },
  {
   "cell_type": "code",
   "execution_count": 195,
   "metadata": {},
   "outputs": [
    {
     "name": "stdout",
     "output_type": "stream",
     "text": [
      "('sensetivity: ', 0.3548387096774194, ' specifity: ', 0.9516129032258065, ' PPV: ', 0.7096774193548387, ' NPV: ', 0.815668202764977)\n",
      "              precision    recall  f1-score   support\n",
      "\n",
      "           0       0.82      0.95      0.88       186\n",
      "           1       0.71      0.35      0.47        62\n",
      "\n",
      "    accuracy                           0.80       248\n",
      "   macro avg       0.76      0.65      0.68       248\n",
      "weighted avg       0.79      0.80      0.78       248\n",
      "\n"
     ]
    }
   ],
   "source": [
    "svm = SVC()\n",
    "svm.probability = True\n",
    "svm.fit(x_train,y_train)\n",
    "pred_prob_svm  = svm.predict_proba(x_test)\n",
    "pred_svm = svm.predict(x_test)\n",
    "np.set_printoptions()\n",
    "print(results(metrics.confusion_matrix(y_test,pred_svm)))\n",
    "print(classification_report(y_test,pred_svm))\n",
    "pred_prob_svm = 1- pred_prob_svm.reshape(496 ,1)[::2]"
   ]
  },
  {
   "cell_type": "code",
   "execution_count": 196,
   "metadata": {},
   "outputs": [
    {
     "name": "stdout",
     "output_type": "stream",
     "text": [
      "('sensetivity: ', 0.4032258064516129, ' specifity: ', 0.9516129032258065, ' PPV: ', 0.7352941176470589, ' NPV: ', 0.8271028037383178)\n",
      "              precision    recall  f1-score   support\n",
      "\n",
      "           0       0.83      0.95      0.89       186\n",
      "           1       0.74      0.40      0.52        62\n",
      "\n",
      "    accuracy                           0.81       248\n",
      "   macro avg       0.78      0.68      0.70       248\n",
      "weighted avg       0.80      0.81      0.79       248\n",
      "\n"
     ]
    }
   ],
   "source": [
    "rf = RandomForestClassifier(oob_score = True , criterion = 'gini',max_depth=13)\n",
    "rf.fit(x_train,y_train)\n",
    "rf_pred_prob = rf.predict_proba(x_test)\n",
    "rf_pred = rf.predict(x_test)\n",
    "rf_pred_prob = 1- rf_pred_prob.reshape(496 ,1)[::2]\n",
    "print(results(metrics.confusion_matrix(y_test,rf_pred)))\n",
    "print(classification_report(y_test,rf_pred))"
   ]
  },
  {
   "cell_type": "code",
   "execution_count": 197,
   "metadata": {},
   "outputs": [
    {
     "data": {
      "image/png": "[encoded data removed]",
      "text/plain": [
       "<Figure size 432x288 with 1 Axes>"
      ]
     },
     "metadata": {
      "needs_background": "light"
     },
     "output_type": "display_data"
    }
   ],
   "source": [
    "importances = rf.feature_importances_\n",
    "forest_importances = pd.Series(importances,index = features)\n",
    "forest_importances= forest_importances.sort_values()\n",
    "fig,ax = plt.subplots()\n",
    "forest_importances.plot.barh(ax=ax)\n",
    "fig.tight_layout()"
   ]
  },
  {
   "cell_type": "code",
   "execution_count": 198,
   "metadata": {},
   "outputs": [
    {
     "name": "stdout",
     "output_type": "stream",
     "text": [
      "('sensetivity: ', 0.43548387096774194, ' specifity: ', 0.9408602150537635, ' PPV: ', 0.7105263157894737, ' NPV: ', 0.8333333333333334)\n",
      "              precision    recall  f1-score   support\n",
      "\n",
      "           0       0.83      0.94      0.88       186\n",
      "           1       0.71      0.44      0.54        62\n",
      "\n",
      "    accuracy                           0.81       248\n",
      "   macro avg       0.77      0.69      0.71       248\n",
      "weighted avg       0.80      0.81      0.80       248\n",
      "\n"
     ]
    }
   ],
   "source": [
    "gbc = GradientBoostingClassifier(loss = 'deviance',n_estimators = 400 , learning_rate = 0.01 ,criterion='mse',max_depth =6)\n",
    "gbc.fit(x_train,y_train)\n",
    "gbc_pred_prob = gbc.predict_proba(x_test)\n",
    "gbc_pred = gbc.predict(x_test)\n",
    "gbc_pred_prob = 1- gbc_pred_prob.reshape(496 ,1)[::2]\n",
    "print(results(metrics.confusion_matrix(y_test,gbc_pred)))\n",
    "print(classification_report(y_test,gbc_pred))"
   ]
  },
  {
   "cell_type": "code",
   "execution_count": 199,
   "metadata": {},
   "outputs": [
    {
     "name": "stdout",
     "output_type": "stream",
     "text": [
      "('sensetivity: ', 0.41935483870967744, ' specifity: ', 0.9516129032258065, ' PPV: ', 0.7428571428571429, ' NPV: ', 0.8309859154929577)\n",
      "              precision    recall  f1-score   support\n",
      "\n",
      "           0       0.83      0.95      0.89       186\n",
      "           1       0.74      0.42      0.54        62\n",
      "\n",
      "    accuracy                           0.82       248\n",
      "   macro avg       0.79      0.69      0.71       248\n",
      "weighted avg       0.81      0.82      0.80       248\n",
      "\n"
     ]
    }
   ],
   "source": [
    "lr = LogisticRegression(penalty = 'l2' , tol =1e-5)\n",
    "lr.fit(x_train,y_train)\n",
    "lr_pred_prob = lr.predict_proba(x_test)\n",
    "lr_pred = lr.predict(x_test)\n",
    "print(results(metrics.confusion_matrix(y_test,lr_pred)))\n",
    "lr_pred_prob = 1- lr_pred_prob.reshape(496 ,1)[::2]\n",
    "print(classification_report(y_test,lr_pred))"
   ]
  },
  {
   "cell_type": "code",
   "execution_count": 200,
   "metadata": {},
   "outputs": [
    {
     "name": "stdout",
     "output_type": "stream",
     "text": [
      "('sensetivity: ', 0.45161290322580644, ' specifity: ', 0.9139784946236559, ' PPV: ', 0.6363636363636364, ' NPV: ', 0.8333333333333334)\n",
      "              precision    recall  f1-score   support\n",
      "\n",
      "           0       0.83      0.91      0.87       186\n",
      "           1       0.64      0.45      0.53        62\n",
      "\n",
      "    accuracy                           0.80       248\n",
      "   macro avg       0.73      0.68      0.70       248\n",
      "weighted avg       0.78      0.80      0.79       248\n",
      "\n"
     ]
    }
   ],
   "source": [
    "knn = KNeighborsClassifier(n_neighbors=4)\n",
    "knn.fit(x_train,y_train)\n",
    "knn_pred_prob = knn.predict_proba(x_test)\n",
    "knn_pred = knn.predict(x_test)\n",
    "knn_pred_prob = 1- knn_pred_prob.reshape(496 ,1)[::2]\n",
    "print(results(metrics.confusion_matrix(y_test,knn_pred)))\n",
    "print(classification_report(y_test,knn_pred))"
   ]
  },
  {
   "cell_type": "code",
   "execution_count": 208,
   "metadata": {},
   "outputs": [
    {
     "name": "stdout",
     "output_type": "stream",
     "text": [
      "DNN Model: 0.8144294138050641\n",
      "SVM Model 0.7321366631980576\n",
      "Random Forest Model: 0.7598855359001039\n",
      "Gradient Boosted Dicision Tree Model: 0.749219562955255\n",
      "K Nearest Neighbot Model: 0.7022199098161637\n",
      "Logistic regression Model: 0.8080992022199098\n"
     ]
    },
    {
     "name": "stderr",
     "output_type": "stream",
     "text": [
      "savefig() got unexpected keyword argument \"papertype\" which is no longer supported as of 3.3 and will become an error two minor releases later\n",
      "savefig() got unexpected keyword argument \"frameon\" which is no longer supported as of 3.3 and will become an error two minor releases later\n"
     ]
    },
    {
     "data": {
      "image/png": "[encoded data removed]",
      "text/plain": [
       "<Figure size 432x288 with 1 Axes>"
      ]
     },
     "metadata": {
      "needs_background": "light"
     },
     "output_type": "display_data"
    }
   ],
   "source": [
    "fpr8, tpr8, thresh8 = roc_curve(y_test, pred_prob, pos_label=1)\n",
    "fpr9, tpr9, thresh9 = roc_curve(y_test, pred_prob_svm, pos_label=1)\n",
    "fpr10, tpr10, thresh10 = roc_curve(y_test, rf_pred_prob, pos_label=1)\n",
    "fpr11, tpr11, thresh11 = roc_curve(y_test, gbc_pred_prob, pos_label=1)\n",
    "fpr12, tpr12, thresh12 = roc_curve(y_test, knn_pred_prob, pos_label=1)\n",
    "fpr13, tpr13, thresh13 = roc_curve(y_test, lr_pred_prob, pos_label=1)\n",
    "\n",
    "auc_score8 = roc_auc_score(y_test, pred_prob)\n",
    "auc_score9 = roc_auc_score(y_test, pred_prob_svm)\n",
    "auc_score10 = roc_auc_score(y_test, rf_pred_prob)\n",
    "auc_score11 = roc_auc_score(y_test, gbc_pred_prob)\n",
    "auc_score12 = roc_auc_score(y_test, knn_pred_prob)\n",
    "auc_score13 = roc_auc_score(y_test, lr_pred_prob)\n",
    "\n",
    "print(\"DNN Model:\",auc_score8)\n",
    "print(\"SVM Model\",auc_score9)\n",
    "print(\"Random Forest Model:\",auc_score10)\n",
    "print(\"Gradient Boosted Dicision Tree Model:\",auc_score11)\n",
    "print(\"K Nearest Neighbot Model:\",auc_score12)\n",
    "print(\"Logistic regression Model:\",auc_score13)\n",
    "\n",
    "random_probs = [0 for i in range(len(y_test))]\n",
    "p_fpr, p_tpr, _ = roc_curve(y_test, random_probs, pos_label=1)\n",
    "plt.plot(fpr8, tpr8, linestyle='--',color='orange', label='ANN')\n",
    "plt.plot(fpr9, tpr9, linestyle='--',color='red', label='SVM')\n",
    "plt.plot(fpr10, tpr10, linestyle='--',color='blue', label='RF')\n",
    "plt.plot(fpr11, tpr11, linestyle='--',color='green', label='GBDT')\n",
    "plt.plot(fpr12, tpr12, linestyle='--',color='yellow', label='KNN')\n",
    "plt.plot(fpr13, tpr13, linestyle='--',color='purple', label='LR')\n",
    "\n",
    "plt.plot(p_fpr, p_tpr, linestyle='--', color='black')\n",
    "plt.legend(loc=\"lower right\")\n",
    "plt.savefig('Downloads/corneal_transplant_result_ROC.pdf', dpi=None, \n",
    "                          facecolor='w',                                                \n",
    "                          edgecolor='w',\n",
    "                          orientation='portrait', \n",
    "                          papertype=None,                                  \n",
    "                          format=None,                                \n",
    "                          transparent=False,     \n",
    "                          bbox_inches=None,                \n",
    "                          pad_inches=0.1,                         \n",
    "                          frameon=None,               \n",
    "                          metadata=None)"
   ]
  },
  {
   "cell_type": "code",
   "execution_count": null,
   "metadata": {},
   "outputs": [
    {
     "name": "stdout",
     "output_type": "stream",
     "text": [
      "Model: \"sequential_1\"\n",
      "_________________________________________________________________\n",
      "Layer (type)                 Output Shape              Param #   \n",
      "=================================================================\n",
      "dense_4 (Dense)              (None, 15)                240       \n",
      "_________________________________________________________________\n",
      "dropout_2 (Dropout)          (None, 15)                0         \n",
      "_________________________________________________________________\n",
      "dense_5 (Dense)              (None, 32)                512       \n",
      "_________________________________________________________________\n",
      "dropout_3 (Dropout)          (None, 32)                0         \n",
      "_________________________________________________________________\n",
      "dense_6 (Dense)              (None, 16)                528       \n",
      "_________________________________________________________________\n",
      "dense_7 (Dense)              (None, 1)                 17        \n",
      "=================================================================\n",
      "Total params: 1,297\n",
      "Trainable params: 1,297\n",
      "Non-trainable params: 0\n",
      "_________________________________________________________________\n"
     ]
    }
   ],
   "source": [
    "\n",
    "model.summary()"
   ]
  },
  {
   "cell_type": "code",
   "execution_count": null,
   "metadata": {},
   "outputs": [],
   "source": []
  }
 ],
 "metadata": {
  "interpreter": {
   "hash": "448474626da8fb5fb96506d5a6bdf8d6203b80d9d093bcae6a51442db220ef21"
  },
  "kernelspec": {
   "display_name": "Python 3 (ipykernel)",
   "language": "python",
   "name": "python3"
  },
  "language_info": {
   "codemirror_mode": {
    "name": "ipython",
    "version": 3
   },
   "file_extension": ".py",
   "mimetype": "text/x-python",
   "name": "python",
   "nbconvert_exporter": "python",
   "pygments_lexer": "ipython3",
   "version": "3.9.13"
  }
 },
 "nbformat": 4,
 "nbformat_minor": 2
}
